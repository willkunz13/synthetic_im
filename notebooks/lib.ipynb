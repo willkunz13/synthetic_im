{
 "cells": [
  {
   "cell_type": "code",
   "execution_count": null,
   "metadata": {},
   "outputs": [],
   "source": [
    "# default_exp lib"
   ]
  },
  {
   "cell_type": "markdown",
   "metadata": {},
   "source": [
    "# lib\n",
    "\n",
    "> API details."
   ]
  },
  {
   "cell_type": "code",
   "execution_count": null,
   "metadata": {},
   "outputs": [],
   "source": [
    "#hide\n",
    "from nbdev.showdoc import *"
   ]
  },
  {
   "cell_type": "code",
   "execution_count": null,
   "metadata": {},
   "outputs": [
    {
     "name": "stdout",
     "output_type": "stream",
     "text": [
      "Drive already mounted at /content/drive; to attempt to forcibly remount, call drive.mount(\"/content/drive\", force_remount=True).\n"
     ]
    }
   ],
   "source": [
    "import os\n",
    "from google.colab import drive\n",
    "drive.mount('/content/drive')\n",
    "import yaml\n",
    "from pathlib import Path\n",
    "\n",
    "secrets = load_yaml('drive/MyDrive/config/secrets.yaml')\n"
   ]
  },
  {
   "cell_type": "code",
   "execution_count": null,
   "metadata": {},
   "outputs": [],
   "source": [
    "#export\n",
    "def load_yaml(yfile:str):\n",
    "    \"\"\"Returns the data from a yaml file.\"\"\"\n",
    "    with open(yfile, 'r') as f:\n",
    "        return yaml.safe_load(f)"
   ]
  },
  {
   "cell_type": "code",
   "execution_count": null,
   "metadata": {},
   "outputs": [],
   "source": [
    "!git clone 'https://{secrets['ACCESS_TOKEN']}@github.com/willkunz13/synthetic_im'\n",
    "#%cd wallshots-canvas/\n",
    "#!git checkout dvc-init\n",
    "#!pip install -e ."
   ]
  },
  {
   "cell_type": "code",
   "execution_count": null,
   "metadata": {},
   "outputs": [
    {
     "name": "stdout",
     "output_type": "stream",
     "text": [
      "Traceback (most recent call last):\n",
      "  File \"/usr/local/bin/nbdev_build_lib\", line 8, in <module>\n",
      "    sys.exit(nbdev_build_lib())\n",
      "  File \"/usr/local/lib/python3.7/dist-packages/fastcore/script.py\", line 105, in _f\n",
      "    tfunc(**merge(args, args_from_prog(func, xtra)))\n",
      "  File \"/usr/local/lib/python3.7/dist-packages/nbdev/export2html.py\", line 461, in nbdev_build_lib\n",
      "    write_tmpls()\n",
      "  File \"/usr/local/lib/python3.7/dist-packages/nbdev/export2html.py\", line 452, in write_tmpls\n",
      "    write_tmpl(config_tmpl, 'user lib_name title copyright description recursive', cfg, path/'_config.yml')\n",
      "  File \"/usr/local/lib/python3.7/dist-packages/nbdev/export2html.py\", line 443, in write_tmpl\n",
      "    vs = {o:cfg.d[o] for o in nms.split()}\n",
      "  File \"/usr/local/lib/python3.7/dist-packages/nbdev/export2html.py\", line 443, in <dictcomp>\n",
      "    vs = {o:cfg.d[o] for o in nms.split()}\n",
      "  File \"/usr/lib/python3.7/configparser.py\", line 1251, in __getitem__\n",
      "    raise KeyError(key)\n",
      "KeyError: 'recursive'\n"
     ]
    }
   ],
   "source": [
    "!nbdev_build_lib"
   ]
  },
  {
   "cell_type": "code",
   "execution_count": null,
   "metadata": {},
   "outputs": [],
   "source": []
  }
 ],
 "metadata": {
  "kernelspec": {
   "display_name": "Python 3",
   "name": "python3"
  }
 },
 "nbformat": 4,
 "nbformat_minor": 0
}
