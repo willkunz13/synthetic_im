{
 "cells": [
  {
   "cell_type": "code",
   "execution_count": null,
   "metadata": {},
   "outputs": [],
   "source": [
    "# default_exp lib"
   ]
  },
  {
   "cell_type": "markdown",
   "metadata": {},
   "source": [
    "# lib\n",
    "\n",
    "> API details."
   ]
  },
  {
   "cell_type": "code",
   "execution_count": null,
   "metadata": {},
   "outputs": [],
   "source": [
    "#hide\n",
    "from nbdev.showdoc import *"
   ]
  },
  {
   "cell_type": "code",
   "execution_count": null,
   "metadata": {},
   "outputs": [
    {
     "name": "stdout",
     "output_type": "stream",
     "text": [
      "Drive already mounted at /content/drive; to attempt to forcibly remount, call drive.mount(\"/content/drive\", force_remount=True).\n"
     ]
    }
   ],
   "source": [
    "#skip\n",
    "!pip install nbdev\n",
    "!pip install 'dvc[s3]'\n",
    "import os\n",
    "from google.colab import drive\n",
    "drive.mount('/content/drive')\n",
    "from synthetic_im.synthetic_im.lib import load_yaml\n",
    "\n",
    "secrets = load_yaml('../drive/MyDrive/config/secrets.yaml')\n",
    "!export AWS_SHARED_CREDENTIALS_FILE=/content/drive/MyDrive/config/awscli.ini\n",
    "path = \"/content/drive/My Drive/config/awscli.ini\"\n",
    "os.environ['AWS_SHARED_CREDENTIALS_FILE'] = path\n"
   ]
  },
  {
   "cell_type": "code",
   "execution_count": null,
   "metadata": {},
   "outputs": [],
   "source": [
    "#export\n",
    "import yaml\n",
    "import os\n",
    "from pathlib import Path\n",
    "def load_yaml(yfile:str):\n",
    "    \"\"\"Returns the data from a yaml file.\"\"\"\n",
    "    with open(yfile, 'r') as f:\n",
    "        return yaml.safe_load(f)"
   ]
  },
  {
   "cell_type": "code",
   "execution_count": null,
   "metadata": {},
   "outputs": [],
   "source": [
    "#export\n",
    "\n",
    "def get_project_root():\n",
    "    return Path(__file__).parent.parent"
   ]
  },
  {
   "cell_type": "code",
   "execution_count": null,
   "metadata": {},
   "outputs": [],
   "source": [
    "#export\n",
    "def set_secrets():\n",
    "    secrets_fp = next(get_project_root().rglob('secrets.y*'))\n",
    "    secrets = load_yaml(secrets_fp)\n",
    "    for secret in secrets:\n",
    "       os.environ[secret] = secrets[secret] "
   ]
  },
  {
   "cell_type": "code",
   "execution_count": null,
   "metadata": {},
   "outputs": [],
   "source": []
  }
 ],
 "metadata": {
  "kernelspec": {
   "display_name": "Python 3",
   "language": "python",
   "name": "python3"
  }
 },
 "nbformat": 4,
 "nbformat_minor": 1
}
