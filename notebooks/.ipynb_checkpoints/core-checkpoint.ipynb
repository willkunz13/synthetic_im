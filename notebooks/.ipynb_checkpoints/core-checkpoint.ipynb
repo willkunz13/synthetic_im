{
 "cells": [
  {
   "cell_type": "code",
   "execution_count": null,
   "metadata": {},
   "outputs": [],
   "source": [
    "# default_exp ImgImporter"
   ]
  },
  {
   "cell_type": "markdown",
   "metadata": {},
   "source": [
    "## ImgImporter\n",
    "\n",
    "> API details."
   ]
  },
  {
   "cell_type": "code",
   "execution_count": null,
   "metadata": {},
   "outputs": [],
   "source": [
    "#hide\n",
    "from nbdev.showdoc import *"
   ]
  },
  {
   "cell_type": "code",
   "execution_count": null,
   "metadata": {},
   "outputs": [],
   "source": [
    "#skip\n",
    "!pip install nbdev\n",
    "!pip install 'dvc[s3]'\n",
    "import os\n",
    "from google.colab import drive\n",
    "drive.mount('/content/drive')\n",
    "\n",
    "from synthetic_im.synthetic_im.lib import load_yaml\n",
    "\n",
    "secrets = load_yaml('../drive/MyDrive/config/secrets.yaml')\n",
    "\n",
    "!export AWS_SHARED_CREDENTIALS_FILE=/content/drive/MyDrive/config/awscli.ini\n",
    "path = \"/content/drive/My Drive/config/awscli.ini\"\n",
    "os.environ['AWS_SHARED_CREDENTIALS_FILE'] = path\n",
    "\n",
    "!git clone 'https://{secrets['ACCESS_TOKEN']}@github.com/willkunz13/synthetic_im'\n",
    "%cd synthetic_im/\n",
    "!pip install -e ."
   ]
  },
  {
   "cell_type": "code",
   "execution_count": null,
   "metadata": {},
   "outputs": [],
   "source": [
    "\n",
    "from synthetic_im.lib import load_yaml, get_project_root, set_secrets\n",
    "set_secrets()"
   ]
  },
  {
   "cell_type": "code",
   "execution_count": null,
   "metadata": {},
   "outputs": [],
   "source": [
    "# export\n",
    "import os\n",
    "from google_images_search import GoogleImagesSearch\n",
    "\n",
    "class ImgImporter():\n",
    "    def __init__(self, outfp = 'data'):\n",
    "        self.gis = GoogleImagesSearch(os.getenv('GCS_DEVELOPER_KEY'), os.getenv('GCS_CX'))\n",
    "        self.outfp = outfp\n",
    "    def search(self, num = 10):\n",
    "        _search_params = {\n",
    "            'q': 'bicycle',\n",
    "            'num': num,\n",
    "            'safe': 'medium',\n",
    "            'fileType': 'jpg',\n",
    "            'imgSize': 'MEDIUM',\n",
    "            'rights': 'cc_publicdomain|cc_attribute|cc_sharealike|cc_noncommercial|cc_nonderived'\n",
    "        }\n",
    "\n",
    "        self.gis.search(search_params=_search_params)\n",
    "        for image in gis.results():\n",
    "          image.download(path_to_dir=self.outfp)\n",
    "    def next_page(self):\n",
    "        self.gis.next_page()\n",
    "        for image in gis.results():\n",
    "            image.download(path_to_dir=self.outfp)"
   ]
  }
 ],
 "metadata": {
  "kernelspec": {
   "display_name": "Python 3",
   "language": "python",
   "name": "python3"
  }
 },
 "nbformat": 4,
 "nbformat_minor": 1
}
