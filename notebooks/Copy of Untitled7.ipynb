{
  "nbformat": 4,
  "nbformat_minor": 0,
  "metadata": {
    "kernelspec": {
      "display_name": "Python 3",
      "name": "python3"
    },
    "colab": {
      "name": "Copy of Untitled7.ipynb",
      "provenance": []
    }
  },
  "cells": [
    {
      "cell_type": "code",
      "metadata": {
        "id": "hdVah16hzc-c"
      },
      "source": [
        "# default_exp lib"
      ],
      "execution_count": null,
      "outputs": []
    },
    {
      "cell_type": "markdown",
      "metadata": {
        "id": "NzhhkcHAzhTG"
      },
      "source": [
        "# lib\n",
        "\n",
        "> API details."
      ]
    },
    {
      "cell_type": "code",
      "metadata": {
        "id": "L9FYVC-PzeoB"
      },
      "source": [
        "#hide\n",
        "from nbdev.showdoc import *"
      ],
      "execution_count": 16,
      "outputs": []
    },
    {
      "cell_type": "code",
      "metadata": {
        "id": "VeSmeHkZwpv4",
        "outputId": "4a280df1-924e-4190-af55-baea977f7643",
        "colab": {
          "base_uri": "https://localhost:8080/"
        }
      },
      "source": [
        "import os\n",
        "from google.colab import drive\n",
        "drive.mount('/content/drive')\n",
        "import yaml\n",
        "from pathlib import Path\n",
        "\n",
        "secrets = load_yaml('drive/MyDrive/config/secrets.yaml')\n"
      ],
      "execution_count": 10,
      "outputs": [
        {
          "output_type": "stream",
          "text": [
            "Drive already mounted at /content/drive; to attempt to forcibly remount, call drive.mount(\"/content/drive\", force_remount=True).\n"
          ],
          "name": "stdout"
        }
      ]
    },
    {
      "cell_type": "code",
      "metadata": {
        "id": "DnHoGaovw7N6"
      },
      "source": [
        "#export\n",
        "def load_yaml(yfile:str):\n",
        "    \"\"\"Returns the data from a yaml file.\"\"\"\n",
        "    with open(yfile, 'r') as f:\n",
        "        return yaml.safe_load(f)"
      ],
      "execution_count": 2,
      "outputs": []
    },
    {
      "cell_type": "code",
      "metadata": {
        "id": "tWbpCU11wSlO"
      },
      "source": [
        "!git clone 'https://{secrets['ACCESS_TOKEN']}@github.com/willkunz13/synthetic_im'\n",
        "#%cd wallshots-canvas/\n",
        "#!git checkout dvc-init\n",
        "#!pip install -e ."
      ],
      "execution_count": null,
      "outputs": []
    },
    {
      "cell_type": "code",
      "metadata": {
        "id": "8Q1AChgB0Gdn",
        "outputId": "9e5cefbb-8fa7-4465-8aaf-96e311388aff",
        "colab": {
          "base_uri": "https://localhost:8080/"
        }
      },
      "source": [
        "!nbdev_build_lib"
      ],
      "execution_count": 18,
      "outputs": [
        {
          "output_type": "stream",
          "text": [
            "Traceback (most recent call last):\n",
            "  File \"/usr/local/bin/nbdev_build_lib\", line 8, in <module>\n",
            "    sys.exit(nbdev_build_lib())\n",
            "  File \"/usr/local/lib/python3.7/dist-packages/fastcore/script.py\", line 105, in _f\n",
            "    tfunc(**merge(args, args_from_prog(func, xtra)))\n",
            "  File \"/usr/local/lib/python3.7/dist-packages/nbdev/export2html.py\", line 461, in nbdev_build_lib\n",
            "    write_tmpls()\n",
            "  File \"/usr/local/lib/python3.7/dist-packages/nbdev/export2html.py\", line 452, in write_tmpls\n",
            "    write_tmpl(config_tmpl, 'user lib_name title copyright description recursive', cfg, path/'_config.yml')\n",
            "  File \"/usr/local/lib/python3.7/dist-packages/nbdev/export2html.py\", line 443, in write_tmpl\n",
            "    vs = {o:cfg.d[o] for o in nms.split()}\n",
            "  File \"/usr/local/lib/python3.7/dist-packages/nbdev/export2html.py\", line 443, in <dictcomp>\n",
            "    vs = {o:cfg.d[o] for o in nms.split()}\n",
            "  File \"/usr/lib/python3.7/configparser.py\", line 1251, in __getitem__\n",
            "    raise KeyError(key)\n",
            "KeyError: 'recursive'\n"
          ],
          "name": "stdout"
        }
      ]
    },
    {
      "cell_type": "code",
      "metadata": {
        "id": "HxUhL6oO0v_Z"
      },
      "source": [
        ""
      ],
      "execution_count": null,
      "outputs": []
    }
  ]
}