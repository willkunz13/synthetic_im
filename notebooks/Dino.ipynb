{
 "cells": [
  {
   "cell_type": "code",
   "execution_count": null,
   "metadata": {},
   "outputs": [],
   "source": [
    "# default_exp models.dino"
   ]
  },
  {
   "cell_type": "markdown",
   "metadata": {},
   "source": [
    "## models.dino\n",
    "\n",
    "> API details."
   ]
  },
  {
   "cell_type": "code",
   "execution_count": null,
   "metadata": {},
   "outputs": [],
   "source": [
    "#hide\n",
    "from nbdev.showdoc import *"
   ]
  },
  {
   "cell_type": "code",
   "execution_count": null,
   "metadata": {},
   "outputs": [
    {
     "name": "stdout",
     "output_type": "stream",
     "text": [
      "Requirement already satisfied: nbdev in /Users/jerry/.pyenv/versions/3.7.7/lib/python3.7/site-packages (1.1.6)\n",
      "Requirement already satisfied: pip in /Users/jerry/.pyenv/versions/3.7.7/lib/python3.7/site-packages (from nbdev) (21.1.1)\n",
      "Requirement already satisfied: ipykernel in /Users/jerry/.pyenv/versions/3.7.7/lib/python3.7/site-packages (from nbdev) (5.5.4)\n",
      "Requirement already satisfied: fastcore>=1.3.1 in /Users/jerry/.pyenv/versions/3.7.7/lib/python3.7/site-packages (from nbdev) (1.3.16)\n",
      "Requirement already satisfied: packaging in /Users/jerry/.pyenv/versions/3.7.7/lib/python3.7/site-packages (from nbdev) (20.4)\n",
      "Requirement already satisfied: pyyaml in /Users/jerry/.pyenv/versions/3.7.7/lib/python3.7/site-packages (from nbdev) (5.4.1)\n",
      "Requirement already satisfied: nbformat>=4.4.0 in /Users/jerry/.pyenv/versions/3.7.7/lib/python3.7/site-packages (from nbdev) (5.0.7)\n",
      "Requirement already satisfied: nbconvert<6 in /Users/jerry/.pyenv/versions/3.7.7/lib/python3.7/site-packages (from nbdev) (5.6.1)\n",
      "Requirement already satisfied: jupyter-client in /Users/jerry/.pyenv/versions/3.7.7/lib/python3.7/site-packages (from nbdev) (6.1.5)\n",
      "Requirement already satisfied: jupyter in /Users/jerry/.pyenv/versions/3.7.7/lib/python3.7/site-packages (from nbdev) (1.0.0)\n",
      "Requirement already satisfied: defusedxml in /Users/jerry/.pyenv/versions/3.7.7/lib/python3.7/site-packages (from nbconvert<6->nbdev) (0.6.0)\n",
      "Requirement already satisfied: mistune<2,>=0.8.1 in /Users/jerry/.pyenv/versions/3.7.7/lib/python3.7/site-packages (from nbconvert<6->nbdev) (0.8.4)\n",
      "Requirement already satisfied: testpath in /Users/jerry/.pyenv/versions/3.7.7/lib/python3.7/site-packages (from nbconvert<6->nbdev) (0.4.4)\n",
      "Requirement already satisfied: jupyter-core in /Users/jerry/.pyenv/versions/3.7.7/lib/python3.7/site-packages (from nbconvert<6->nbdev) (4.6.3)\n",
      "Requirement already satisfied: jinja2>=2.4 in /Users/jerry/.pyenv/versions/3.7.7/lib/python3.7/site-packages (from nbconvert<6->nbdev) (2.11.2)\n",
      "Requirement already satisfied: traitlets>=4.2 in /Users/jerry/.pyenv/versions/3.7.7/lib/python3.7/site-packages (from nbconvert<6->nbdev) (4.3.3)\n",
      "Requirement already satisfied: pygments in /Users/jerry/.pyenv/versions/3.7.7/lib/python3.7/site-packages (from nbconvert<6->nbdev) (2.6.1)\n",
      "Requirement already satisfied: bleach in /Users/jerry/.pyenv/versions/3.7.7/lib/python3.7/site-packages (from nbconvert<6->nbdev) (3.1.5)\n",
      "Requirement already satisfied: entrypoints>=0.2.2 in /Users/jerry/.pyenv/versions/3.7.7/lib/python3.7/site-packages (from nbconvert<6->nbdev) (0.3)\n",
      "Requirement already satisfied: pandocfilters>=1.4.1 in /Users/jerry/.pyenv/versions/3.7.7/lib/python3.7/site-packages (from nbconvert<6->nbdev) (1.4.2)\n",
      "Requirement already satisfied: MarkupSafe>=0.23 in /Users/jerry/.pyenv/versions/3.7.7/lib/python3.7/site-packages (from jinja2>=2.4->nbconvert<6->nbdev) (1.1.1)\n",
      "Requirement already satisfied: ipython-genutils in /Users/jerry/.pyenv/versions/3.7.7/lib/python3.7/site-packages (from nbformat>=4.4.0->nbdev) (0.2.0)\n",
      "Requirement already satisfied: jsonschema!=2.5.0,>=2.4 in /Users/jerry/.pyenv/versions/3.7.7/lib/python3.7/site-packages (from nbformat>=4.4.0->nbdev) (3.2.0)\n",
      "Requirement already satisfied: setuptools in /Users/jerry/.pyenv/versions/3.7.7/lib/python3.7/site-packages (from jsonschema!=2.5.0,>=2.4->nbformat>=4.4.0->nbdev) (56.0.0)\n",
      "Requirement already satisfied: pyrsistent>=0.14.0 in /Users/jerry/.pyenv/versions/3.7.7/lib/python3.7/site-packages (from jsonschema!=2.5.0,>=2.4->nbformat>=4.4.0->nbdev) (0.16.0)\n",
      "Requirement already satisfied: attrs>=17.4.0 in /Users/jerry/.pyenv/versions/3.7.7/lib/python3.7/site-packages (from jsonschema!=2.5.0,>=2.4->nbformat>=4.4.0->nbdev) (19.3.0)\n",
      "Requirement already satisfied: importlib-metadata in /Users/jerry/.pyenv/versions/3.7.7/lib/python3.7/site-packages (from jsonschema!=2.5.0,>=2.4->nbformat>=4.4.0->nbdev) (1.6.0)\n",
      "Requirement already satisfied: six>=1.11.0 in /Users/jerry/.pyenv/versions/3.7.7/lib/python3.7/site-packages (from jsonschema!=2.5.0,>=2.4->nbformat>=4.4.0->nbdev) (1.16.0)\n",
      "Requirement already satisfied: decorator in /Users/jerry/.pyenv/versions/3.7.7/lib/python3.7/site-packages (from traitlets>=4.2->nbconvert<6->nbdev) (4.4.2)\n",
      "Requirement already satisfied: webencodings in /Users/jerry/.pyenv/versions/3.7.7/lib/python3.7/site-packages (from bleach->nbconvert<6->nbdev) (0.5.1)\n",
      "Requirement already satisfied: zipp>=0.5 in /Users/jerry/.pyenv/versions/3.7.7/lib/python3.7/site-packages (from importlib-metadata->jsonschema!=2.5.0,>=2.4->nbformat>=4.4.0->nbdev) (3.1.0)\n",
      "Requirement already satisfied: appnope in /Users/jerry/.pyenv/versions/3.7.7/lib/python3.7/site-packages (from ipykernel->nbdev) (0.1.0)\n",
      "Requirement already satisfied: ipython>=5.0.0 in /Users/jerry/.pyenv/versions/3.7.7/lib/python3.7/site-packages (from ipykernel->nbdev) (7.23.1)\n",
      "Requirement already satisfied: tornado>=4.2 in /Users/jerry/.pyenv/versions/3.7.7/lib/python3.7/site-packages (from ipykernel->nbdev) (6.1)\n",
      "Requirement already satisfied: pexpect>4.3 in /Users/jerry/.pyenv/versions/3.7.7/lib/python3.7/site-packages (from ipython>=5.0.0->ipykernel->nbdev) (4.8.0)\n",
      "Requirement already satisfied: matplotlib-inline in /Users/jerry/.pyenv/versions/3.7.7/lib/python3.7/site-packages (from ipython>=5.0.0->ipykernel->nbdev) (0.1.2)\n",
      "Requirement already satisfied: prompt-toolkit!=3.0.0,!=3.0.1,<3.1.0,>=2.0.0 in /Users/jerry/.pyenv/versions/3.7.7/lib/python3.7/site-packages (from ipython>=5.0.0->ipykernel->nbdev) (3.0.18)\n",
      "Requirement already satisfied: jedi>=0.16 in /Users/jerry/.pyenv/versions/3.7.7/lib/python3.7/site-packages (from ipython>=5.0.0->ipykernel->nbdev) (0.17.1)\n",
      "Requirement already satisfied: backcall in /Users/jerry/.pyenv/versions/3.7.7/lib/python3.7/site-packages (from ipython>=5.0.0->ipykernel->nbdev) (0.2.0)\n",
      "Requirement already satisfied: pickleshare in /Users/jerry/.pyenv/versions/3.7.7/lib/python3.7/site-packages (from ipython>=5.0.0->ipykernel->nbdev) (0.7.5)\n",
      "Requirement already satisfied: parso<0.8.0,>=0.7.0 in /Users/jerry/.pyenv/versions/3.7.7/lib/python3.7/site-packages (from jedi>=0.16->ipython>=5.0.0->ipykernel->nbdev) (0.7.0)\n",
      "Requirement already satisfied: ptyprocess>=0.5 in /Users/jerry/.pyenv/versions/3.7.7/lib/python3.7/site-packages (from pexpect>4.3->ipython>=5.0.0->ipykernel->nbdev) (0.6.0)\n",
      "Requirement already satisfied: wcwidth in /Users/jerry/.pyenv/versions/3.7.7/lib/python3.7/site-packages (from prompt-toolkit!=3.0.0,!=3.0.1,<3.1.0,>=2.0.0->ipython>=5.0.0->ipykernel->nbdev) (0.1.9)\n",
      "Requirement already satisfied: qtconsole in /Users/jerry/.pyenv/versions/3.7.7/lib/python3.7/site-packages (from jupyter->nbdev) (4.7.5)\n",
      "Requirement already satisfied: ipywidgets in /Users/jerry/.pyenv/versions/3.7.7/lib/python3.7/site-packages (from jupyter->nbdev) (7.5.1)\n",
      "Requirement already satisfied: notebook in /Users/jerry/.pyenv/versions/3.7.7/lib/python3.7/site-packages (from jupyter->nbdev) (6.3.0)\n",
      "Requirement already satisfied: jupyter-console in /Users/jerry/.pyenv/versions/3.7.7/lib/python3.7/site-packages (from jupyter->nbdev) (5.2.0)\n",
      "Requirement already satisfied: widgetsnbextension~=3.5.0 in /Users/jerry/.pyenv/versions/3.7.7/lib/python3.7/site-packages (from ipywidgets->jupyter->nbdev) (3.5.1)\n",
      "Requirement already satisfied: pyzmq>=17 in /Users/jerry/.pyenv/versions/3.7.7/lib/python3.7/site-packages (from notebook->jupyter->nbdev) (19.0.1)\n",
      "Requirement already satisfied: prometheus-client in /Users/jerry/.pyenv/versions/3.7.7/lib/python3.7/site-packages (from notebook->jupyter->nbdev) (0.8.0)\n",
      "Requirement already satisfied: argon2-cffi in /Users/jerry/.pyenv/versions/3.7.7/lib/python3.7/site-packages (from notebook->jupyter->nbdev) (20.1.0)\n",
      "Requirement already satisfied: terminado>=0.8.3 in /Users/jerry/.pyenv/versions/3.7.7/lib/python3.7/site-packages (from notebook->jupyter->nbdev) (0.8.3)\n",
      "Requirement already satisfied: Send2Trash>=1.5.0 in /Users/jerry/.pyenv/versions/3.7.7/lib/python3.7/site-packages (from notebook->jupyter->nbdev) (1.5.0)\n",
      "Requirement already satisfied: python-dateutil>=2.1 in /Users/jerry/.pyenv/versions/3.7.7/lib/python3.7/site-packages (from jupyter-client->nbdev) (2.8.1)\n",
      "Requirement already satisfied: cffi>=1.0.0 in /Users/jerry/.pyenv/versions/3.7.7/lib/python3.7/site-packages (from argon2-cffi->notebook->jupyter->nbdev) (1.14.4)\n",
      "Requirement already satisfied: pycparser in /Users/jerry/.pyenv/versions/3.7.7/lib/python3.7/site-packages (from cffi>=1.0.0->argon2-cffi->notebook->jupyter->nbdev) (2.20)\n"
     ]
    },
    {
     "name": "stdout",
     "output_type": "stream",
     "text": [
      "Collecting jupyter-console\n",
      "  Downloading jupyter_console-6.4.0-py3-none-any.whl (22 kB)\n",
      "Requirement already satisfied: pyparsing>=2.0.2 in /Users/jerry/.pyenv/versions/3.7.7/lib/python3.7/site-packages (from packaging->nbdev) (2.4.7)\n",
      "Requirement already satisfied: qtpy in /Users/jerry/.pyenv/versions/3.7.7/lib/python3.7/site-packages (from qtconsole->jupyter->nbdev) (1.9.0)\n",
      "Installing collected packages: jupyter-console\n",
      "  Attempting uninstall: jupyter-console\n",
      "    Found existing installation: jupyter-console 5.2.0\n",
      "    Uninstalling jupyter-console-5.2.0:\n",
      "      Successfully uninstalled jupyter-console-5.2.0\n",
      "Successfully installed jupyter-console-6.4.0\n"
     ]
    },
    {
     "ename": "ModuleNotFoundError",
     "evalue": "No module named 'google.colab'",
     "output_type": "error",
     "traceback": [
      "\u001b[0;31m---------------------------------------------------------------------------\u001b[0m",
      "\u001b[0;31mModuleNotFoundError\u001b[0m                       Traceback (most recent call last)",
      "\u001b[0;32m<ipython-input-1-ff729e44f40f>\u001b[0m in \u001b[0;36m<module>\u001b[0;34m\u001b[0m\n\u001b[1;32m      4\u001b[0m \u001b[0;32mimport\u001b[0m \u001b[0mos\u001b[0m\u001b[0;34m\u001b[0m\u001b[0;34m\u001b[0m\u001b[0m\n\u001b[1;32m      5\u001b[0m \u001b[0;32mimport\u001b[0m \u001b[0myaml\u001b[0m\u001b[0;34m\u001b[0m\u001b[0;34m\u001b[0m\u001b[0m\n\u001b[0;32m----> 6\u001b[0;31m \u001b[0;32mfrom\u001b[0m \u001b[0mgoogle\u001b[0m\u001b[0;34m.\u001b[0m\u001b[0mcolab\u001b[0m \u001b[0;32mimport\u001b[0m \u001b[0mdrive\u001b[0m\u001b[0;34m\u001b[0m\u001b[0;34m\u001b[0m\u001b[0m\n\u001b[0m\u001b[1;32m      7\u001b[0m \u001b[0mdrive\u001b[0m\u001b[0;34m.\u001b[0m\u001b[0mmount\u001b[0m\u001b[0;34m(\u001b[0m\u001b[0;34m'/content/drive'\u001b[0m\u001b[0;34m)\u001b[0m\u001b[0;34m\u001b[0m\u001b[0;34m\u001b[0m\u001b[0m\n\u001b[1;32m      8\u001b[0m \u001b[0;34m\u001b[0m\u001b[0m\n",
      "\u001b[0;31mModuleNotFoundError\u001b[0m: No module named 'google.colab'"
     ]
    }
   ],
   "source": [
    "#skip\n",
    "!pip install nbdev\n",
    "\n",
    "import os\n",
    "import yaml\n",
    "from google.colab import drive\n",
    "drive.mount('/content/drive')\n",
    "\n",
    "with open(\"drive/MyDrive/config/secrets.yaml\", 'r') as stream:\n",
    "    secrets = yaml.safe_load(stream)\n",
    "\n",
    "!export AWS_SHARED_CREDENTIALS_FILE=/content/drive/MyDrive/config/awscli.ini\n",
    "path = \"/content/drive/My Drive/config/awscli.ini\"\n",
    "os.environ['AWS_SHARED_CREDENTIALS_FILE'] = path\n",
    "\n",
    "!git clone 'https://{secrets['ACCESS_TOKEN']}@github.com/willkunz13/synthetic_im'\n",
    "!git checkout iter\n",
    "%cd synthetic_im/\n",
    "!pip install -e .\n"
   ]
  },
  {
   "cell_type": "code",
   "execution_count": null,
   "metadata": {},
   "outputs": [
    {
     "name": "stdout",
     "output_type": "stream",
     "text": [
      "/Users/jerry/ml/projs/synthetic_im\n"
     ]
    }
   ],
   "source": [
    "%cd .."
   ]
  },
  {
   "cell_type": "code",
   "execution_count": null,
   "metadata": {},
   "outputs": [],
   "source": [
    "#export\n",
    "import torch\n",
    "import torch.nn as nn\n",
    "import torch.optim as optim\n",
    "from torch.optim import lr_scheduler\n",
    "from skimage import io, transform\n",
    "import numpy as np\n",
    "from torch.utils.data import Dataset, DataLoader\n",
    "import torchvision\n",
    "from torchvision import datasets, models, transforms\n",
    "import matplotlib.pyplot as plt\n",
    "import time\n",
    "import ipdb\n",
    "import os\n",
    "import sys\n",
    "import copy\n",
    "from pathlib import Path\n",
    "from synthetic_im import vision_transformer\n",
    "from synthetic_im.lib import get_project_root"
   ]
  },
  {
   "cell_type": "code",
   "execution_count": null,
   "metadata": {},
   "outputs": [
    {
     "name": "stderr",
     "output_type": "stream",
     "text": [
      "Using cache found in /root/.cache/torch/hub/facebookresearch_dino_main\n"
     ]
    }
   ],
   "source": [
    "#deits8 = torch.hub.load('facebookresearch/dino:main', 'dino_deits8')\n",
    "#torch.save(deits8, 'test_data/models/dino_small.pt')"
   ]
  },
  {
   "cell_type": "code",
   "execution_count": null,
   "metadata": {},
   "outputs": [
    {
     "data": {
      "text/plain": [
       "PosixPath('/Users/jerry/ml/projs/synthetic_im')"
      ]
     },
     "execution_count": null,
     "metadata": {},
     "output_type": "execute_result"
    }
   ],
   "source": [
    "get_project_root()"
   ]
  },
  {
   "cell_type": "code",
   "execution_count": null,
   "metadata": {},
   "outputs": [],
   "source": [
    "#export\n",
    "\n",
    "class DinoDataset(Dataset):\n",
    "    \"\"\"Face Landmarks dataset.\"\"\"\n",
    "\n",
    "    def __init__(self, path, transform=None):\n",
    "        self.path = path\n",
    "        self.files = list(Path(self.path).rglob('*.jpg'))\n",
    "        self.transform = transform\n",
    "\n",
    "    def __len__(self):\n",
    "        return len(self.files)\n",
    "\n",
    "    def __getitem__(self, idx):\n",
    "        if torch.is_tensor(idx):\n",
    "            idx = idx.tolist()\n",
    "\n",
    "        img_name = self.files[idx]\n",
    "        image = io.imread(img_name)\n",
    "        if self.transform:\n",
    "            image = self.transform(image)\n",
    "\n",
    "        return image"
   ]
  },
  {
   "cell_type": "code",
   "execution_count": null,
   "metadata": {},
   "outputs": [],
   "source": [
    "data_transforms = transforms.Compose([\n",
    "        transforms.ToTensor(),\n",
    "        transforms.Resize((512, 512)),\n",
    "        transforms.Normalize([0.485, 0.456, 0.406], [0.229, 0.224, 0.225])\n",
    "    ])\n",
    "\n",
    "root_path = get_project_root()\n",
    "\n",
    "data_dir = Path(root_path/'test_data/bicycles')\n",
    "image_datasets = DinoDataset(data_dir, data_transforms)\n",
    "                  \n",
    "dataloader = torch.utils.data.DataLoader(image_datasets, batch_size=2,\n",
    "                                             shuffle=False, num_workers=2)\n",
    "\n",
    "device = torch.device(\"cuda:0\" if torch.cuda.is_available() else \"cpu\")"
   ]
  },
  {
   "cell_type": "code",
   "execution_count": null,
   "metadata": {},
   "outputs": [
    {
     "name": "stdout",
     "output_type": "stream",
     "text": [
      "/Users/jerry/.pyenv/versions/3.7.7/lib/python3.7/site-packages\n"
     ]
    },
    {
     "ename": "IndexError",
     "evalue": "list index out of range",
     "output_type": "error",
     "traceback": [
      "\u001b[0;31m---------------------------------------------------------------------------\u001b[0m",
      "\u001b[0;31mIndexError\u001b[0m                                Traceback (most recent call last)",
      "\u001b[0;32m<ipython-input-13-2289dd65e61c>\u001b[0m in \u001b[0;36m<module>\u001b[0;34m\u001b[0m\n\u001b[1;32m      4\u001b[0m \u001b[0;34m\u001b[0m\u001b[0m\n\u001b[1;32m      5\u001b[0m \u001b[0mprint\u001b[0m\u001b[0;34m(\u001b[0m\u001b[0mget_project_root\u001b[0m\u001b[0;34m(\u001b[0m\u001b[0;34m)\u001b[0m\u001b[0;34m)\u001b[0m\u001b[0;34m\u001b[0m\u001b[0;34m\u001b[0m\u001b[0m\n\u001b[0;32m----> 6\u001b[0;31m \u001b[0;32massert\u001b[0m \u001b[0mdataloader\u001b[0m\u001b[0;34m.\u001b[0m\u001b[0mdataset\u001b[0m\u001b[0;34m.\u001b[0m\u001b[0m__getitem__\u001b[0m\u001b[0;34m(\u001b[0m\u001b[0;36m0\u001b[0m\u001b[0;34m)\u001b[0m\u001b[0;34m.\u001b[0m\u001b[0mshape\u001b[0m \u001b[0;34m==\u001b[0m \u001b[0mtorch\u001b[0m\u001b[0;34m.\u001b[0m\u001b[0mSize\u001b[0m\u001b[0;34m(\u001b[0m\u001b[0;34m[\u001b[0m\u001b[0;36m3\u001b[0m\u001b[0;34m,\u001b[0m \u001b[0;36m512\u001b[0m\u001b[0;34m,\u001b[0m \u001b[0;36m512\u001b[0m\u001b[0;34m]\u001b[0m\u001b[0;34m)\u001b[0m\u001b[0;34m\u001b[0m\u001b[0;34m\u001b[0m\u001b[0m\n\u001b[0m\u001b[1;32m      7\u001b[0m \u001b[0;32massert\u001b[0m \u001b[0mdataloader\u001b[0m\u001b[0;34m.\u001b[0m\u001b[0mdataset\u001b[0m\u001b[0;34m.\u001b[0m\u001b[0m__getitem__\u001b[0m\u001b[0;34m(\u001b[0m\u001b[0;36m1\u001b[0m\u001b[0;34m)\u001b[0m\u001b[0;34m.\u001b[0m\u001b[0mshape\u001b[0m \u001b[0;34m==\u001b[0m \u001b[0mtorch\u001b[0m\u001b[0;34m.\u001b[0m\u001b[0mSize\u001b[0m\u001b[0;34m(\u001b[0m\u001b[0;34m[\u001b[0m\u001b[0;36m3\u001b[0m\u001b[0;34m,\u001b[0m \u001b[0;36m512\u001b[0m\u001b[0;34m,\u001b[0m \u001b[0;36m512\u001b[0m\u001b[0;34m]\u001b[0m\u001b[0;34m)\u001b[0m\u001b[0;34m\u001b[0m\u001b[0;34m\u001b[0m\u001b[0m\n\u001b[1;32m      8\u001b[0m \u001b[0;32mtry\u001b[0m\u001b[0;34m:\u001b[0m\u001b[0;34m\u001b[0m\u001b[0;34m\u001b[0m\u001b[0m\n",
      "\u001b[0;32m<ipython-input-11-e4afd7429749>\u001b[0m in \u001b[0;36m__getitem__\u001b[0;34m(self, idx)\u001b[0m\n\u001b[1;32m     16\u001b[0m             \u001b[0midx\u001b[0m \u001b[0;34m=\u001b[0m \u001b[0midx\u001b[0m\u001b[0;34m.\u001b[0m\u001b[0mtolist\u001b[0m\u001b[0;34m(\u001b[0m\u001b[0;34m)\u001b[0m\u001b[0;34m\u001b[0m\u001b[0;34m\u001b[0m\u001b[0m\n\u001b[1;32m     17\u001b[0m \u001b[0;34m\u001b[0m\u001b[0m\n\u001b[0;32m---> 18\u001b[0;31m         \u001b[0mimg_name\u001b[0m \u001b[0;34m=\u001b[0m \u001b[0mself\u001b[0m\u001b[0;34m.\u001b[0m\u001b[0mfiles\u001b[0m\u001b[0;34m[\u001b[0m\u001b[0midx\u001b[0m\u001b[0;34m]\u001b[0m\u001b[0;34m\u001b[0m\u001b[0;34m\u001b[0m\u001b[0m\n\u001b[0m\u001b[1;32m     19\u001b[0m         \u001b[0mimage\u001b[0m \u001b[0;34m=\u001b[0m \u001b[0mio\u001b[0m\u001b[0;34m.\u001b[0m\u001b[0mimread\u001b[0m\u001b[0;34m(\u001b[0m\u001b[0mimg_name\u001b[0m\u001b[0;34m)\u001b[0m\u001b[0;34m\u001b[0m\u001b[0;34m\u001b[0m\u001b[0m\n\u001b[1;32m     20\u001b[0m         \u001b[0;32mif\u001b[0m \u001b[0mself\u001b[0m\u001b[0;34m.\u001b[0m\u001b[0mtransform\u001b[0m\u001b[0;34m:\u001b[0m\u001b[0;34m\u001b[0m\u001b[0;34m\u001b[0m\u001b[0m\n",
      "\u001b[0;31mIndexError\u001b[0m: list index out of range"
     ]
    }
   ],
   "source": [
    "assert isinstance(dataloader, DataLoader)\n",
    "assert isinstance(dataloader.dataset, DinoDataset)\n",
    "assert device == \"cude:0\" or \"cpu\"\n",
    "\n",
    "print(get_project_root())\n",
    "assert dataloader.dataset.__getitem__(0).shape == torch.Size([3, 512, 512])\n",
    "assert dataloader.dataset.__getitem__(1).shape == torch.Size([3, 512, 512])\n",
    "try:\n",
    "  assert dataloader.dataset.__getitem__(11).shape == False\n",
    "except:\n",
    "  assert True == True"
   ]
  },
  {
   "cell_type": "code",
   "execution_count": null,
   "metadata": {},
   "outputs": [],
   "source": [
    "sys.path.insert(0, str(root_path/'test_data/models'))\n",
    "sys.path.insert(0, str(root_path/'synthetic_im'))"
   ]
  },
  {
   "cell_type": "code",
   "execution_count": null,
   "metadata": {},
   "outputs": [],
   "source": [
    "model = torch.load(root_path/'test_data/models/dino_small.pt')"
   ]
  },
  {
   "cell_type": "code",
   "execution_count": null,
   "metadata": {},
   "outputs": [],
   "source": [
    "#export\n",
    "def predict_images(model, dataloader, patch_size = 8, threshold = .6, output_dir = Path('data/output')):\n",
    "    device = torch.device(\"cuda:0\" if torch.cuda.is_available() else \"cpu\")\n",
    "    was_training = model.training\n",
    "    for p in model.parameters():\n",
    "      p.requires_grad = False\n",
    "    model.eval()\n",
    "    model.to(device)\n",
    "\n",
    "    with torch.no_grad():\n",
    "        for i, inputs in enumerate(dataloader):\n",
    "            w, h = inputs.shape[2] - inputs.shape[2] % patch_size, inputs.shape[3] - inputs.shape[3] % patch_size\n",
    "            inputs = inputs[:, :, :w, :h]\n",
    "\n",
    "\n",
    "            w_featmap = inputs.shape[-2] // patch_size\n",
    "            h_featmap = inputs.shape[-1] // patch_size\n",
    "\n",
    "            attentions = model.forward_selfattention(inputs.to(device))\n",
    "            bs = attentions.shape[0] # batch size\n",
    "            nh = attentions.shape[1] # number of head\n",
    "\n",
    "            # we keep only the output patch attention\n",
    "            attentions = attentions[:, :, 0, 1:].reshape(bs,nh, -1)\n",
    "\n",
    "            # we keep only a certain percentage of the mass\n",
    "            val, idx = torch.sort(attentions)\n",
    "            val /= torch.sum(val, dim=2, keepdim=True)\n",
    "            cumval = torch.cumsum(val, dim=2)\n",
    "            th_attn = cumval > (1 - threshold)\n",
    "            idx2 = torch.argsort(idx)\n",
    "            for batch in range(bs):\n",
    "                for head in range(nh):\n",
    "                    th_attn[batch,head] = th_attn[batch,head][idx2[batch,head]]\n",
    "            th_attn = th_attn.reshape(bs,nh, w_featmap, h_featmap).float()\n",
    "            # interpolate\n",
    "            th_attn = nn.functional.interpolate(th_attn, scale_factor=patch_size, mode=\"nearest\").cpu().numpy()\n",
    "\n",
    "            attentions = attentions.reshape(bs, nh, w_featmap, h_featmap)\n",
    "            attentions = nn.functional.interpolate(attentions, scale_factor=patch_size, mode=\"nearest\").cpu().numpy()\n",
    "\n",
    "            os.makedirs(output_dir, exist_ok=True)\n",
    "\n",
    "            for batch in range(attentions.shape[0]):\n",
    "                out_img = attentions[batch].sum(0)\n",
    "                fname = str(output_dir) + '/attn-' + dataloader.dataset.files[i * bs + batch].name\n",
    "                plt.imsave(\n",
    "                    fname=fname,\n",
    "                    arr=out_img,\n",
    "                    cmap=\"inferno\",\n",
    "                    format=\"jpg\"\n",
    "                )\n",
    "                print(f\"{fname} saved.\")\n",
    "                "
   ]
  },
  {
   "cell_type": "code",
   "execution_count": null,
   "metadata": {},
   "outputs": [
    {
     "ename": "NameError",
     "evalue": "name 'predict_images' is not defined",
     "output_type": "error",
     "traceback": [
      "\u001b[0;31m---------------------------------------------------------------------------\u001b[0m",
      "\u001b[0;31mNameError\u001b[0m                                 Traceback (most recent call last)",
      "\u001b[0;32m<ipython-input-63-7378c9811954>\u001b[0m in \u001b[0;36m<module>\u001b[0;34m\u001b[0m\n\u001b[1;32m      1\u001b[0m \u001b[0;31m#skip\u001b[0m\u001b[0;34m\u001b[0m\u001b[0;34m\u001b[0m\u001b[0;34m\u001b[0m\u001b[0m\n\u001b[0;32m----> 2\u001b[0;31m \u001b[0mpredict_images\u001b[0m\u001b[0;34m(\u001b[0m\u001b[0moutput_dir\u001b[0m\u001b[0;34m=\u001b[0m \u001b[0;34m'test_data/output'\u001b[0m\u001b[0;34m,\u001b[0m \u001b[0mdevice\u001b[0m\u001b[0;34m=\u001b[0m \u001b[0mdevice\u001b[0m\u001b[0;34m)\u001b[0m\u001b[0;34m\u001b[0m\u001b[0;34m\u001b[0m\u001b[0m\n\u001b[0m\u001b[1;32m      3\u001b[0m \u001b[0;34m\u001b[0m\u001b[0m\n\u001b[1;32m      4\u001b[0m \u001b[0;32massert\u001b[0m \u001b[0mos\u001b[0m\u001b[0;34m.\u001b[0m\u001b[0mlistdir\u001b[0m\u001b[0;34m(\u001b[0m\u001b[0;34m'test_data/output'\u001b[0m\u001b[0;34m)\u001b[0m \u001b[0;34m!=\u001b[0m \u001b[0;34m[\u001b[0m\u001b[0;34m]\u001b[0m\u001b[0;34m\u001b[0m\u001b[0;34m\u001b[0m\u001b[0m\n\u001b[1;32m      5\u001b[0m \u001b[0;32massert\u001b[0m \u001b[0mlen\u001b[0m\u001b[0;34m(\u001b[0m\u001b[0mos\u001b[0m\u001b[0;34m.\u001b[0m\u001b[0mlistdir\u001b[0m\u001b[0;34m(\u001b[0m\u001b[0;34m'test_data/output'\u001b[0m\u001b[0;34m)\u001b[0m\u001b[0;34m)\u001b[0m \u001b[0;34m==\u001b[0m \u001b[0;36m2\u001b[0m\u001b[0;34m\u001b[0m\u001b[0;34m\u001b[0m\u001b[0m\n",
      "\u001b[0;31mNameError\u001b[0m: name 'predict_images' is not defined"
     ]
    }
   ],
   "source": [
    "#skip\n",
    "predict_images(output_dir= 'test_data/output')\n",
    "\n",
    "assert os.listdir('test_data/output') != []\n",
    "assert len(os.listdir('test_data/output')) == 2\n",
    "assert plt.imread('test_data/output/attn-1.jpg').shape == (512, 512, 3)\n",
    "\n",
    "dir = 'test_data/output'\n",
    "for f in os.listdir(dir):\n",
    " os.remove(os.path.join(dir, f))"
   ]
  }
 ],
 "metadata": {
  "kernelspec": {
   "display_name": "Python 3",
   "language": "python",
   "name": "python3"
  }
 },
 "nbformat": 4,
 "nbformat_minor": 1
}
