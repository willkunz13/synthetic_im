{
  "nbformat": 4,
  "nbformat_minor": 0,
  "metadata": {
    "kernelspec": {
      "display_name": "Python 3",
      "name": "python3"
    },
    "colab": {
      "name": "lib.ipynb",
      "provenance": []
    }
  },
  "cells": [
    {
      "cell_type": "code",
      "metadata": {
        "id": "ZSC8RRvu18E-"
      },
      "source": [
        "# default_exp core"
      ],
      "execution_count": 1,
      "outputs": []
    },
    {
      "cell_type": "markdown",
      "metadata": {
        "id": "r0-hJOCd18FH"
      },
      "source": [
        "## core\n",
        "\n",
        "> API details."
      ]
    },
    {
      "cell_type": "code",
      "metadata": {
        "id": "oPOc93vR18FI"
      },
      "source": [
        "#hide\n",
        "from nbdev.showdoc import *"
      ],
      "execution_count": null,
      "outputs": []
    },
    {
      "cell_type": "code",
      "metadata": {
        "id": "dn6117ap2APr"
      },
      "source": [
        "!pip install nbdev\n",
        "!pip install 'dvc[s3]'"
      ],
      "execution_count": null,
      "outputs": []
    },
    {
      "cell_type": "code",
      "metadata": {
        "id": "ZPiMf2b518FJ",
        "outputId": "6b13fc56-fe84-4c4a-aa72-d031e9d71fd5",
        "colab": {
          "base_uri": "https://localhost:8080/"
        }
      },
      "source": [
        "import os\n",
        "from google.colab import drive\n",
        "drive.mount('/content/drive')\n",
        "import yaml\n",
        "from pathlib import Path\n",
        "from synthetic_im.synthetic_im.lib import load_yaml\n",
        "\n",
        "secrets = load_yaml('../drive/MyDrive/config/secrets.yaml')\n"
      ],
      "execution_count": 35,
      "outputs": [
        {
          "output_type": "stream",
          "text": [
            "Drive already mounted at /content/drive; to attempt to forcibly remount, call drive.mount(\"/content/drive\", force_remount=True).\n"
          ],
          "name": "stdout"
        }
      ]
    },
    {
      "cell_type": "code",
      "metadata": {
        "id": "v-akv9dN9IXk",
        "outputId": "2f5462de-0033-43ea-822d-3db38e6e7a74",
        "colab": {
          "base_uri": "https://localhost:8080/"
        }
      },
      "source": [
        "!export AWS_SHARED_CREDENTIALS_FILE=/content/drive/MyDrive/config/awscli.ini\n",
        "path = \"/content/drive/My Drive/config/awscli.ini\"\n",
        "os.environ['AWS_SHARED_CREDENTIALS_FILE'] = path\n",
        "print(os.environ['AWS_SHARED_CREDENTIALS_FILE'])"
      ],
      "execution_count": 36,
      "outputs": [
        {
          "output_type": "stream",
          "text": [
            "/content/drive/My Drive/config/awscli.ini\n"
          ],
          "name": "stdout"
        }
      ]
    },
    {
      "cell_type": "code",
      "metadata": {
        "id": "V8C_w4tD-Pml",
        "outputId": "e65bc630-174f-4fc8-d819-0412b02e4a00",
        "colab": {
          "base_uri": "https://localhost:8080/"
        }
      },
      "source": [
        ""
      ],
      "execution_count": 13,
      "outputs": [
        {
          "output_type": "stream",
          "text": [
            "/content/drive/My Drive/config/awscli.ini\n"
          ],
          "name": "stdout"
        }
      ]
    },
    {
      "cell_type": "code",
      "metadata": {
        "id": "oKJ77Suk18FK"
      },
      "source": [
        "!git clone 'https://{secrets['ACCESS_TOKEN']}@github.com/willkunz13/synthetic_im'\n",
        "#%cd wallshots-canvas/\n",
        "#!git checkout dvc-init\n",
        "#!pip install -e ."
      ],
      "execution_count": null,
      "outputs": []
    },
    {
      "cell_type": "code",
      "metadata": {
        "id": "uPpTYhdDPZ5l"
      },
      "source": [
        "from google_images_search import GoogleImagesSearch"
      ],
      "execution_count": 37,
      "outputs": []
    },
    {
      "cell_type": "code",
      "metadata": {
        "id": "eexwWhFrPrZA"
      },
      "source": [
        "# skip\n",
        "gis = GoogleImagesSearch(secrets['GCS_DEVELOPER_KEY'], secrets['GCS_CX'])\n",
        "\n",
        "# define search params:\n",
        "_search_params = {\n",
        "    'q': 'bicycle',\n",
        "    'num': 10,\n",
        "    'safe': 'medium',\n",
        "    'fileType': 'jpg',\n",
        "    'imgSize': 'MEDIUM',\n",
        "    'rights': 'cc_publicdomain|cc_attribute|cc_sharealike|cc_noncommercial|cc_nonderived'\n",
        "}\n",
        "\n",
        "gis.search(search_params=_search_params)\n",
        "for image in gis.results()\n",
        "  x.download(path_to_dir='data/bicycles')"
      ],
      "execution_count": 38,
      "outputs": []
    },
    {
      "cell_type": "code",
      "metadata": {
        "id": "pMUo1GDORarS"
      },
      "source": [
        "for image in gis.results():\n",
        "  image.download(path_to_dir='data/bicycles')"
      ],
      "execution_count": 44,
      "outputs": []
    },
    {
      "cell_type": "code",
      "metadata": {
        "id": "0DbuduLDRu77"
      },
      "source": [
        "!dvc push"
      ],
      "execution_count": null,
      "outputs": []
    },
    {
      "cell_type": "code",
      "metadata": {
        "id": "O9wavxnUhgul",
        "outputId": "1fdb1165-f834-4f5f-f714-38ae95c132d1",
        "colab": {
          "base_uri": "https://localhost:8080/"
        }
      },
      "source": [
        "!git push"
      ],
      "execution_count": 52,
      "outputs": [
        {
          "output_type": "stream",
          "text": [
            "Counting objects: 11, done.\n",
            "Delta compression using up to 2 threads.\n",
            "Compressing objects:   9% (1/11)   \rCompressing objects:  18% (2/11)   \rCompressing objects:  27% (3/11)   \rCompressing objects:  36% (4/11)   \rCompressing objects:  45% (5/11)   \rCompressing objects:  54% (6/11)   \rCompressing objects:  63% (7/11)   \rCompressing objects:  72% (8/11)   \rCompressing objects:  81% (9/11)   \rCompressing objects:  90% (10/11)   \rCompressing objects: 100% (11/11)   \rCompressing objects: 100% (11/11), done.\n",
            "Writing objects:   9% (1/11)   \rWriting objects:  18% (2/11)   \rWriting objects:  27% (3/11)   \rWriting objects:  36% (4/11)   \rWriting objects:  45% (5/11)   \rWriting objects:  54% (6/11)   \rWriting objects:  63% (7/11)   \rWriting objects:  72% (8/11)   \rWriting objects:  81% (9/11)   \rWriting objects:  90% (10/11)   \rWriting objects: 100% (11/11)   \rWriting objects: 100% (11/11), 1.49 KiB | 1.49 MiB/s, done.\n",
            "Total 11 (delta 3), reused 0 (delta 0)\n",
            "remote: Resolving deltas:   0% (0/3)\u001b[K\rremote: Resolving deltas:  33% (1/3)\u001b[K\rremote: Resolving deltas:  66% (2/3)\u001b[K\rremote: Resolving deltas: 100% (3/3)\u001b[K\rremote: Resolving deltas: 100% (3/3), completed with 3 local objects.\u001b[K\n",
            "To https://github.com/willkunz13/synthetic_im\n",
            "   6ce85ac..96bf22f  main -> main\n"
          ],
          "name": "stdout"
        }
      ]
    }
  ]
}